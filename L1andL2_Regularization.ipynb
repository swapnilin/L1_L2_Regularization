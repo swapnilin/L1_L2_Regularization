{
 "cells": [
  {
   "cell_type": "markdown",
   "metadata": {},
   "source": [
    "# Model Evaluation"
   ]
  },
  {
   "cell_type": "markdown",
   "metadata": {},
   "source": [
    "#### Let's import the libraries\n",
    "\n",
    "* When in doubt regarding which Scikit-Learn module something belongs to, refer to this <a href=\"http://scikit-learn.org/stable/modules/classes.html\" target=\"_blank\">documentation page</a>\n",
    "\n"
   ]
  },
  {
   "cell_type": "code",
   "execution_count": 28,
   "metadata": {},
   "outputs": [],
   "source": [
    "# NumPy for numerical computing\n",
    "import numpy as np\n",
    "\n",
    "# Pandas for DataFrames\n",
    "import pandas as pd\n",
    "\n",
    "# Matplotlib for visualization\n",
    "import matplotlib.pyplot as plt\n",
    "\n",
    "# Seaborn for easier visualization\n",
    "import seaborn as sns\n",
    "sns.set_style('darkgrid')\n",
    "\n",
    "# Pickle for saving model files\n",
    "import pickle\n",
    "\n",
    "# Import Logistic Regression\n",
    "from sklearn.linear_model import LogisticRegression\n",
    "\n",
    "# Import RandomForestClassifier and GradientBoostingClassifer\n",
    "from sklearn.ensemble import RandomForestClassifier, GradientBoostingClassifier\n",
    "\n",
    "# Function for splitting training and test set\n",
    "from sklearn.model_selection import train_test_split\n",
    "\n",
    "# Function for creating model pipelines\n",
    "from sklearn.pipeline import make_pipeline\n",
    "\n",
    "# StandardScaler\n",
    "from sklearn.preprocessing import StandardScaler\n",
    "\n",
    "# GridSearchCV\n",
    "from sklearn.model_selection import GridSearchCV\n",
    "\n",
    "from sklearn.metrics import confusion_matrix\n",
    "from sklearn.metrics import accuracy_score"
   ]
  },
  {
   "cell_type": "markdown",
   "metadata": {},
   "source": [
    "#### Next, let's read in the analytical base table you saved at the end of Module 2."
   ]
  },
  {
   "cell_type": "code",
   "execution_count": 30,
   "metadata": {},
   "outputs": [],
   "source": [
    "df = pd.read_csv('analytical_base_table.csv')"
   ]
  },
  {
   "cell_type": "markdown",
   "metadata": {},
   "source": [
    "### Split the Dataset"
   ]
  },
  {
   "cell_type": "markdown",
   "metadata": {},
   "source": [
    "**Data is a limited resource.** Let's start by splitting our data into training and testing sets. \n",
    "\n",
    "We can spend some of it to train your model, some of it to test, or evaluate your model.\n",
    "\n",
    "Having a true \"unseen\" test dataset helps us prevent overfit models and ultimately select the best model."
   ]
  },
  {
   "cell_type": "code",
   "execution_count": 3,
   "metadata": {},
   "outputs": [],
   "source": [
    "#Target Variable\n",
    "y = df.status"
   ]
  },
  {
   "cell_type": "code",
   "execution_count": 31,
   "metadata": {},
   "outputs": [],
   "source": [
    "#Input features/Independant variables/Predictors\n",
    "x = df.drop('status', axis=1)"
   ]
  },
  {
   "cell_type": "markdown",
   "metadata": {},
   "source": [
    "### Train Test split function"
   ]
  },
  {
   "cell_type": "markdown",
   "metadata": {},
   "source": [
    "* Pass in the argument **test_size=0.2** to set aside 20% of our observations for the test set.\n",
    "* Pass in **random_state=123** to set the random state for replicable results. (It can be any number)\n",
    "* Also pass in the argument **stratify=abt.status** in order to make sure the target variable's| classes are balanced in each subset of data! This is stratified random sampling."
   ]
  },
  {
   "cell_type": "code",
   "execution_count": 5,
   "metadata": {},
   "outputs": [],
   "source": [
    "x_train, x_test, y_train, y_test = train_test_split(x, y, random_state = 123, stratify =df.status, test_size=0.2 )"
   ]
  },
  {
   "cell_type": "code",
   "execution_count": 32,
   "metadata": {},
   "outputs": [
    {
     "name": "stdout",
     "output_type": "stream",
     "text": [
      "11254 11254 2814 2814\n"
     ]
    }
   ],
   "source": [
    "#verify\n",
    "print(len(x_train),len(y_train),len(x_test),len(y_test))"
   ]
  },
  {
   "cell_type": "markdown",
   "metadata": {},
   "source": [
    "### Data Preprocessing"
   ]
  },
  {
   "cell_type": "markdown",
   "metadata": {},
   "source": [
    "Let's standardize the data (Mean = 0, std = 1) using standard scalar "
   ]
  },
  {
   "cell_type": "code",
   "execution_count": 34,
   "metadata": {},
   "outputs": [],
   "source": [
    "sc = StandardScaler()"
   ]
  },
  {
   "cell_type": "code",
   "execution_count": 35,
   "metadata": {},
   "outputs": [],
   "source": [
    "#Scale the independant variables in the train set\n",
    "X_train = sc.fit_transform(x_train)"
   ]
  },
  {
   "cell_type": "code",
   "execution_count": 36,
   "metadata": {},
   "outputs": [],
   "source": [
    "#Scale the independant variables in the test set\n",
    "X_test = sc.transform(x_test)"
   ]
  },
  {
   "cell_type": "code",
   "execution_count": 42,
   "metadata": {},
   "outputs": [
    {
     "data": {
      "image/png": "[encoded data removed]",
      "text/plain": [
       "<Figure size 432x288 with 1 Axes>"
      ]
     },
     "metadata": {},
     "output_type": "display_data"
    }
   ],
   "source": [
    "#visualise the scaled data using a histogram\n",
    "plt.hist(X_train)\n",
    "plt.show()"
   ]
  },
  {
   "cell_type": "markdown",
   "metadata": {},
   "source": [
    "Here we don't have to scale the 'status' (target) variable because the values are only 0 and 1. "
   ]
  },
  {
   "cell_type": "markdown",
   "metadata": {},
   "source": [
    "    "
   ]
  },
  {
   "cell_type": "markdown",
   "metadata": {},
   "source": [
    "## <code style=\"color:Green\">1. Logistic Regression</code>"
   ]
  },
  {
   "cell_type": "markdown",
   "metadata": {},
   "source": [
    "### A. Penalty type - L1 regularized"
   ]
  },
  {
   "cell_type": "markdown",
   "metadata": {},
   "source": [
    "<code style=\"color:crimson\">For Linear regression:\n",
    "\n",
    "* **L1** regularization is called **Lasso regression**\n",
    "* **L2** regularization is called **Ridge regression** </code>\n",
    "\n",
    "\n",
    "For logistic regression, we'll simply call it L1 and L2-regularized logistic regression. By default, LogisticRegression uses the L2 penalty.\n",
    "\n",
    "We will work out the L1 penalty first.\n",
    "\n"
   ]
  },
  {
   "cell_type": "markdown",
   "metadata": {},
   "source": [
    "    "
   ]
  },
  {
   "cell_type": "markdown",
   "metadata": {},
   "source": [
    "## Hyperparameter tuning"
   ]
  },
  {
   "cell_type": "markdown",
   "metadata": {},
   "source": [
    "There are two types of parameters we need to consider when using machine learning algorithms.\n",
    "\n",
    "* Model parameters<br>\n",
    "* Hyperparamters\n",
    "\n",
    "Model parameters are learned directly from the training data while hyperparameters are not (so we can tune them initially)"
   ]
  },
  {
   "cell_type": "markdown",
   "metadata": {},
   "source": [
    "### Let's list the tunable hyperparameters for  𝐿1 regularized logistic regression algorithm."
   ]
  },
  {
   "cell_type": "code",
   "execution_count": 46,
   "metadata": {},
   "outputs": [
    {
     "data": {
      "text/plain": [
       "{'C': 1.0,\n",
       " 'class_weight': None,\n",
       " 'dual': False,\n",
       " 'fit_intercept': True,\n",
       " 'intercept_scaling': 1,\n",
       " 'l1_ratio': None,\n",
       " 'max_iter': 100,\n",
       " 'multi_class': 'auto',\n",
       " 'n_jobs': None,\n",
       " 'penalty': 'l2',\n",
       " 'random_state': None,\n",
       " 'solver': 'lbfgs',\n",
       " 'tol': 0.0001,\n",
       " 'verbose': 0,\n",
       " 'warm_start': False}"
      ]
     },
     "execution_count": 46,
     "metadata": {},
     "output_type": "execute_result"
    }
   ],
   "source": [
    "LogisticRegression().get_params()"
   ]
  },
  {
   "cell_type": "markdown",
   "metadata": {},
   "source": [
    "**Remember**: We don't need to tune all the parameters. For regularized logistic regression, the most impactful hyperparameter is the strength of the penalty **'C'**\n",
    "\n",
    "<code style=\"color:crimson\">For Lasso, Ridge, and Elastic-Net algorithms, this is alpha.</code>\n",
    "\n",
    "**Strength of the penalty**<br>\n",
    "* C is the inverse of regularization strength.<br>\n",
    "* That means higher values of C means weaker penalties.<br>\n",
    "* C is a positive value, typically between 0 and 1000. The default is 1.0<br>\n",
    "\n",
    "For **C**, let's try values between 0.001 and 1000"
   ]
  },
  {
   "cell_type": "code",
   "execution_count": 114,
   "metadata": {},
   "outputs": [
    {
     "name": "stdout",
     "output_type": "stream",
     "text": [
      "C = 0.001\n",
      "Accuracy score: 0.789\n",
      "[[2134    7]\n",
      " [ 588   85]] \n",
      "\n",
      "C = 0.005\n",
      "Accuracy score: 0.796\n",
      "[[2006  135]\n",
      " [ 440  233]] \n",
      "\n",
      "C = 0.01\n",
      "Accuracy score: 0.812\n",
      "[[1985  156]\n",
      " [ 372  301]] \n",
      "\n",
      "C = 0.05\n",
      "Accuracy score: 0.83\n",
      "[[1960  181]\n",
      " [ 296  377]] \n",
      "\n",
      "C = 0.1\n",
      "Accuracy score: 0.838\n",
      "[[1964  177]\n",
      " [ 280  393]] \n",
      "\n",
      "C = 0.5\n",
      "Accuracy score: 0.842\n",
      "[[1966  175]\n",
      " [ 270  403]] \n",
      "\n",
      "C = 1\n",
      "Accuracy score: 0.842\n",
      "[[1966  175]\n",
      " [ 269  404]] \n",
      "\n",
      "C = 5\n",
      "Accuracy score: 0.842\n",
      "[[1966  175]\n",
      " [ 269  404]] \n",
      "\n",
      "C = 10\n",
      "Accuracy score: 0.842\n",
      "[[1966  175]\n",
      " [ 269  404]] \n",
      "\n",
      "C = 50\n",
      "Accuracy score: 0.842\n",
      "[[1965  176]\n",
      " [ 269  404]] \n",
      "\n",
      "C = 100\n",
      "Accuracy score: 0.842\n",
      "[[1965  176]\n",
      " [ 269  404]] \n",
      "\n",
      "C = 500\n",
      "Accuracy score: 0.842\n",
      "[[1966  175]\n",
      " [ 269  404]] \n",
      "\n",
      "C = 1000\n",
      "Accuracy score: 0.842\n",
      "[[1965  176]\n",
      " [ 269  404]] \n",
      "\n"
     ]
    }
   ],
   "source": [
    "# for L1 penalty regularized Logistic Regression, use solver='liblinear' to prevent the error\n",
    "\n",
    "for n in [0.001, 0.005, 0.01, 0.05, 0.1, 0.5, 1, 5, 10, 50, 100, 500, 1000]:\n",
    "    modellr1 = LogisticRegression(C=n,penalty='l1', solver='liblinear')\n",
    "    modellr1.fit(X_train, y_train)\n",
    "    y_pred = modellr1.predict(X_test)\n",
    "    confusion_matrix(y_test,y_pred)\n",
    "    print('C =',n)\n",
    "    print('Accuracy score:', np.round(accuracy_score(y_test, y_pred),3))\n",
    "    print(confusion_matrix(y_test, y_pred),'\\n')"
   ]
  },
  {
   "cell_type": "markdown",
   "metadata": {},
   "source": [
    "    We can note that increasing penalty beyond certain point does not change the accuracy of the model."
   ]
  },
  {
   "cell_type": "markdown",
   "metadata": {},
   "source": [
    "    "
   ]
  },
  {
   "cell_type": "markdown",
   "metadata": {},
   "source": [
    "### B. Penalty type - L2 regularized"
   ]
  },
  {
   "cell_type": "markdown",
   "metadata": {},
   "source": [
    "    "
   ]
  },
  {
   "cell_type": "markdown",
   "metadata": {},
   "source": [
    "Let's do the same for penalty L2"
   ]
  },
  {
   "cell_type": "code",
   "execution_count": 115,
   "metadata": {},
   "outputs": [
    {
     "name": "stdout",
     "output_type": "stream",
     "text": [
      "C = 0.001\n",
      "Accuracy score: 0.781\n",
      "[[2054   87]\n",
      " [ 529  144]] \n",
      "\n",
      "C = 0.005\n",
      "Accuracy score: 0.813\n",
      "[[2016  125]\n",
      " [ 402  271]] \n",
      "\n",
      "C = 0.01\n",
      "Accuracy score: 0.819\n",
      "[[1987  154]\n",
      " [ 354  319]] \n",
      "\n",
      "C = 0.05\n",
      "Accuracy score: 0.835\n",
      "[[1965  176]\n",
      " [ 289  384]] \n",
      "\n",
      "C = 0.1\n",
      "Accuracy score: 0.838\n",
      "[[1968  173]\n",
      " [ 284  389]] \n",
      "\n",
      "C = 0.5\n",
      "Accuracy score: 0.842\n",
      "[[1966  175]\n",
      " [ 270  403]] \n",
      "\n",
      "C = 1\n",
      "Accuracy score: 0.842\n",
      "[[1966  175]\n",
      " [ 269  404]] \n",
      "\n",
      "C = 5\n",
      "Accuracy score: 0.842\n",
      "[[1966  175]\n",
      " [ 269  404]] \n",
      "\n",
      "C = 10\n",
      "Accuracy score: 0.842\n",
      "[[1966  175]\n",
      " [ 269  404]] \n",
      "\n",
      "C = 50\n",
      "Accuracy score: 0.842\n",
      "[[1965  176]\n",
      " [ 269  404]] \n",
      "\n",
      "C = 100\n",
      "Accuracy score: 0.842\n",
      "[[1965  176]\n",
      " [ 269  404]] \n",
      "\n",
      "C = 500\n",
      "Accuracy score: 0.842\n",
      "[[1965  176]\n",
      " [ 269  404]] \n",
      "\n",
      "C = 1000\n",
      "Accuracy score: 0.842\n",
      "[[1965  176]\n",
      " [ 269  404]] \n",
      "\n"
     ]
    }
   ],
   "source": [
    "# for L2 penalty regularized Logistic Regression\n",
    "\n",
    "for n in [0.001, 0.005, 0.01, 0.05, 0.1, 0.5, 1, 5, 10, 50, 100, 500, 1000]:\n",
    "    modellr2 = LogisticRegression(C=n,penalty='l2')\n",
    "    modellr2.fit(X_train, y_train)\n",
    "    y2_pred = modellr2.predict(X_test)\n",
    "    confusion_matrix(y_test,y2_pred)\n",
    "    print('C =',n)\n",
    "    print('Accuracy score:', np.round(accuracy_score(y_test, y2_pred),3))\n",
    "    print(confusion_matrix(y_test, y2_pred),'\\n')"
   ]
  },
  {
   "cell_type": "markdown",
   "metadata": {},
   "source": [
    "    We can note that increasing penalty beyond certain point does not change the accuracy of the model."
   ]
  },
  {
   "cell_type": "markdown",
   "metadata": {},
   "source": [
    "    "
   ]
  },
  {
   "cell_type": "markdown",
   "metadata": {},
   "source": [
    "## <code style=\"color:Green\">2. Random Forest</code>"
   ]
  },
  {
   "cell_type": "markdown",
   "metadata": {},
   "source": [
    "### Let's list the tunable hyperparameters for Random Forest algorithm."
   ]
  },
  {
   "cell_type": "code",
   "execution_count": 59,
   "metadata": {},
   "outputs": [
    {
     "data": {
      "text/plain": [
       "{'bootstrap': True,\n",
       " 'ccp_alpha': 0.0,\n",
       " 'class_weight': None,\n",
       " 'criterion': 'gini',\n",
       " 'max_depth': None,\n",
       " 'max_features': 'auto',\n",
       " 'max_leaf_nodes': None,\n",
       " 'max_samples': None,\n",
       " 'min_impurity_decrease': 0.0,\n",
       " 'min_impurity_split': None,\n",
       " 'min_samples_leaf': 1,\n",
       " 'min_samples_split': 2,\n",
       " 'min_weight_fraction_leaf': 0.0,\n",
       " 'n_estimators': 100,\n",
       " 'n_jobs': None,\n",
       " 'oob_score': False,\n",
       " 'random_state': None,\n",
       " 'verbose': 0,\n",
       " 'warm_start': False}"
      ]
     },
     "execution_count": 59,
     "metadata": {},
     "output_type": "execute_result"
    }
   ],
   "source": [
    "RandomForestClassifier().get_params()"
   ]
  },
  {
   "cell_type": "markdown",
   "metadata": {},
   "source": [
    "\n",
    "For random forests,<br> \n",
    "* The first hyperparameter to tune is **n_estimators.** We will try 100 and 200.<br>\n",
    "* The second one is **max_features.** Let's try - 'auto', 'sqrt', and 0.33.<br>\n",
    "* The third one is **min_samples_leaf.** Let's try - 1, 3, 5, 10"
   ]
  },
  {
   "cell_type": "code",
   "execution_count": 116,
   "metadata": {},
   "outputs": [
    {
     "name": "stdout",
     "output_type": "stream",
     "text": [
      "n = 100 m = auto l = 1 Accuracy score: 0.974\n",
      "[[2123   18]\n",
      " [  56  617]] \n",
      "\n",
      "n = 100 m = auto l = 3 Accuracy score: 0.969\n",
      "[[2121   20]\n",
      " [  67  606]] \n",
      "\n",
      "n = 100 m = auto l = 5 Accuracy score: 0.967\n",
      "[[2118   23]\n",
      " [  70  603]] \n",
      "\n",
      "n = 100 m = auto l = 10 Accuracy score: 0.964\n",
      "[[2115   26]\n",
      " [  74  599]] \n",
      "\n",
      "n = 100 m = sqrt l = 1 Accuracy score: 0.973\n",
      "[[2122   19]\n",
      " [  56  617]] \n",
      "\n",
      "n = 100 m = sqrt l = 3 Accuracy score: 0.969\n",
      "[[2121   20]\n",
      " [  68  605]] \n",
      "\n",
      "n = 100 m = sqrt l = 5 Accuracy score: 0.966\n",
      "[[2118   23]\n",
      " [  72  601]] \n",
      "\n",
      "n = 100 m = sqrt l = 10 Accuracy score: 0.965\n",
      "[[2115   26]\n",
      " [  72  601]] \n",
      "\n",
      "n = 100 m = 0.33 l = 1 Accuracy score: 0.975\n",
      "[[2126   15]\n",
      " [  54  619]] \n",
      "\n",
      "n = 100 m = 0.33 l = 3 Accuracy score: 0.971\n",
      "[[2122   19]\n",
      " [  63  610]] \n",
      "\n",
      "n = 100 m = 0.33 l = 5 Accuracy score: 0.968\n",
      "[[2122   19]\n",
      " [  70  603]] \n",
      "\n",
      "n = 100 m = 0.33 l = 10 Accuracy score: 0.965\n",
      "[[2114   27]\n",
      " [  71  602]] \n",
      "\n",
      "n = 200 m = auto l = 1 Accuracy score: 0.974\n",
      "[[2122   19]\n",
      " [  55  618]] \n",
      "\n",
      "n = 200 m = auto l = 3 Accuracy score: 0.967\n",
      "[[2118   23]\n",
      " [  70  603]] \n",
      "\n",
      "n = 200 m = auto l = 5 Accuracy score: 0.966\n",
      "[[2117   24]\n",
      " [  71  602]] \n",
      "\n",
      "n = 200 m = auto l = 10 Accuracy score: 0.964\n",
      "[[2113   28]\n",
      " [  73  600]] \n",
      "\n",
      "n = 200 m = sqrt l = 1 Accuracy score: 0.973\n",
      "[[2120   21]\n",
      " [  55  618]] \n",
      "\n",
      "n = 200 m = sqrt l = 3 Accuracy score: 0.969\n",
      "[[2121   20]\n",
      " [  68  605]] \n",
      "\n",
      "n = 200 m = sqrt l = 5 Accuracy score: 0.967\n",
      "[[2119   22]\n",
      " [  72  601]] \n",
      "\n",
      "n = 200 m = sqrt l = 10 Accuracy score: 0.964\n",
      "[[2115   26]\n",
      " [  74  599]] \n",
      "\n",
      "n = 200 m = 0.33 l = 1 Accuracy score: 0.976\n",
      "[[2126   15]\n",
      " [  53  620]] \n",
      "\n",
      "n = 200 m = 0.33 l = 3 Accuracy score: 0.971\n",
      "[[2122   19]\n",
      " [  63  610]] \n",
      "\n",
      "n = 200 m = 0.33 l = 5 Accuracy score: 0.97\n",
      "[[2121   20]\n",
      " [  65  608]] \n",
      "\n",
      "n = 200 m = 0.33 l = 10 Accuracy score: 0.965\n",
      "[[2113   28]\n",
      " [  71  602]] \n",
      "\n"
     ]
    }
   ],
   "source": [
    "#Let's create a loop\n",
    "    \n",
    "for n in [100, 200]:\n",
    "     for m in ['auto', 'sqrt', 0.33]:\n",
    "            for l in [1, 3, 5, 10]:\n",
    "                modelrf = RandomForestClassifier(n_estimators=n, max_features=m, min_samples_leaf=l)\n",
    "                modelrf.fit(X_train, y_train)\n",
    "                y3_pred = modelrf.predict(X_test)  \n",
    "                print('n =',n, 'm =',m , 'l =',l, 'Accuracy score:', np.round(accuracy_score(y_test, y3_pred),3))\n",
    "                print(confusion_matrix(y_test, y3_pred),'\\n')"
   ]
  },
  {
   "cell_type": "markdown",
   "metadata": {},
   "source": [
    "    "
   ]
  },
  {
   "cell_type": "markdown",
   "metadata": {},
   "source": [
    "    "
   ]
  },
  {
   "cell_type": "markdown",
   "metadata": {},
   "source": [
    "## <code style=\"color:Green\">3. Boosted Trees - Gradient Boosting</code>"
   ]
  },
  {
   "cell_type": "markdown",
   "metadata": {},
   "source": [
    "### Let's list the tunable hyperparameters for Gradient Boosting algorithm."
   ]
  },
  {
   "cell_type": "code",
   "execution_count": 67,
   "metadata": {},
   "outputs": [
    {
     "data": {
      "text/plain": [
       "{'ccp_alpha': 0.0,\n",
       " 'criterion': 'friedman_mse',\n",
       " 'init': None,\n",
       " 'learning_rate': 0.1,\n",
       " 'loss': 'deviance',\n",
       " 'max_depth': 3,\n",
       " 'max_features': None,\n",
       " 'max_leaf_nodes': None,\n",
       " 'min_impurity_decrease': 0.0,\n",
       " 'min_impurity_split': None,\n",
       " 'min_samples_leaf': 1,\n",
       " 'min_samples_split': 2,\n",
       " 'min_weight_fraction_leaf': 0.0,\n",
       " 'n_estimators': 100,\n",
       " 'n_iter_no_change': None,\n",
       " 'presort': 'deprecated',\n",
       " 'random_state': None,\n",
       " 'subsample': 1.0,\n",
       " 'tol': 0.0001,\n",
       " 'validation_fraction': 0.1,\n",
       " 'verbose': 0,\n",
       " 'warm_start': False}"
      ]
     },
     "execution_count": 67,
     "metadata": {},
     "output_type": "execute_result"
    }
   ],
   "source": [
    "GradientBoostingClassifier().get_params()"
   ]
  },
  {
   "cell_type": "markdown",
   "metadata": {},
   "source": [
    "For boosted trees,<br> \n",
    "* The first hyperparameter to tune is **n_estimators.** We will try 100 and 200<br>\n",
    "* The second one is **learning_rate.** Let's try - 0.05, 0.1 and 0.2<br>\n",
    "* The third one is **max_depth.** Let's try - 1, 3, 5\n",
    "\n"
   ]
  },
  {
   "cell_type": "code",
   "execution_count": 117,
   "metadata": {},
   "outputs": [
    {
     "name": "stdout",
     "output_type": "stream",
     "text": [
      "n = 1 m = 0.05 l = 1 Accuracy score: 0.761\n",
      "[[2141    0]\n",
      " [ 673    0]] \n",
      "\n",
      "n = 1 m = 0.05 l = 3 Accuracy score: 0.761\n",
      "[[2141    0]\n",
      " [ 673    0]] \n",
      "\n",
      "n = 1 m = 0.05 l = 5 Accuracy score: 0.761\n",
      "[[2141    0]\n",
      " [ 673    0]] \n",
      "\n",
      "n = 1 m = 0.1 l = 1 Accuracy score: 0.761\n",
      "[[2141    0]\n",
      " [ 673    0]] \n",
      "\n",
      "n = 1 m = 0.1 l = 3 Accuracy score: 0.761\n",
      "[[2141    0]\n",
      " [ 673    0]] \n",
      "\n",
      "n = 1 m = 0.1 l = 5 Accuracy score: 0.761\n",
      "[[2141    0]\n",
      " [ 673    0]] \n",
      "\n",
      "n = 1 m = 0.2 l = 1 Accuracy score: 0.761\n",
      "[[2141    0]\n",
      " [ 673    0]] \n",
      "\n",
      "n = 1 m = 0.2 l = 3 Accuracy score: 0.761\n",
      "[[2141    0]\n",
      " [ 673    0]] \n",
      "\n",
      "n = 1 m = 0.2 l = 5 Accuracy score: 0.761\n",
      "[[2141    0]\n",
      " [ 673    0]] \n",
      "\n",
      "n = 3 m = 0.05 l = 1 Accuracy score: 0.761\n",
      "[[2141    0]\n",
      " [ 673    0]] \n",
      "\n",
      "n = 3 m = 0.05 l = 3 Accuracy score: 0.761\n",
      "[[2141    0]\n",
      " [ 673    0]] \n",
      "\n",
      "n = 3 m = 0.05 l = 5 Accuracy score: 0.761\n",
      "[[2141    0]\n",
      " [ 673    0]] \n",
      "\n",
      "n = 3 m = 0.1 l = 1 Accuracy score: 0.761\n",
      "[[2141    0]\n",
      " [ 673    0]] \n",
      "\n",
      "n = 3 m = 0.1 l = 3 Accuracy score: 0.761\n",
      "[[2141    0]\n",
      " [ 673    0]] \n",
      "\n",
      "n = 3 m = 0.1 l = 5 Accuracy score: 0.761\n",
      "[[2141    0]\n",
      " [ 673    0]] \n",
      "\n",
      "n = 3 m = 0.2 l = 1 Accuracy score: 0.761\n",
      "[[2141    0]\n",
      " [ 673    0]] \n",
      "\n",
      "n = 3 m = 0.2 l = 3 Accuracy score: 0.941\n",
      "[[2103   38]\n",
      " [ 127  546]] \n",
      "\n",
      "n = 3 m = 0.2 l = 5 Accuracy score: 0.964\n",
      "[[2114   27]\n",
      " [  73  600]] \n",
      "\n",
      "n = 5 m = 0.05 l = 1 Accuracy score: 0.761\n",
      "[[2141    0]\n",
      " [ 673    0]] \n",
      "\n",
      "n = 5 m = 0.05 l = 3 Accuracy score: 0.761\n",
      "[[2141    0]\n",
      " [ 673    0]] \n",
      "\n",
      "n = 5 m = 0.05 l = 5 Accuracy score: 0.761\n",
      "[[2141    0]\n",
      " [ 673    0]] \n",
      "\n",
      "n = 5 m = 0.1 l = 1 Accuracy score: 0.761\n",
      "[[2141    0]\n",
      " [ 673    0]] \n",
      "\n",
      "n = 5 m = 0.1 l = 3 Accuracy score: 0.848\n",
      "[[2128   13]\n",
      " [ 415  258]] \n",
      "\n",
      "n = 5 m = 0.1 l = 5 Accuracy score: 0.963\n",
      "[[2114   27]\n",
      " [  76  597]] \n",
      "\n",
      "n = 5 m = 0.2 l = 1 Accuracy score: 0.833\n",
      "[[2105   36]\n",
      " [ 435  238]] \n",
      "\n",
      "n = 5 m = 0.2 l = 3 Accuracy score: 0.941\n",
      "[[2077   64]\n",
      " [ 101  572]] \n",
      "\n",
      "n = 5 m = 0.2 l = 5 Accuracy score: 0.966\n",
      "[[2114   27]\n",
      " [  68  605]] \n",
      "\n"
     ]
    }
   ],
   "source": [
    "#Let's create a loop\n",
    "\n",
    "for n in [1, 3, 5]:\n",
    "    for m in [0.05, 0.1, 0.2]:\n",
    "        for l in [1, 3, 5]:\n",
    "            modelgb = GradientBoostingClassifier(n_estimators=n, learning_rate=m, max_depth=l)\n",
    "            modelgb.fit(X_train, y_train)\n",
    "            y4_pred = modelgb.predict(X_test)  \n",
    "            print('n =',n, 'm =',m , 'l =',l, 'Accuracy score:', np.round(accuracy_score(y_test, y4_pred),3))\n",
    "            print(confusion_matrix(y_test, y4_pred),'\\n')"
   ]
  },
  {
   "cell_type": "markdown",
   "metadata": {},
   "source": [
    "    "
   ]
  },
  {
   "cell_type": "markdown",
   "metadata": {},
   "source": [
    "So far, from the 4 types of algorithms, **Random Forest** has given us the best score.\n",
    "\n",
    "Accuracy score of 0.976  for  n = 200, m = 0.33, and l = 1 \n",
    "\n",
    "**Accuracy** is simply the percent of observations correctly classified by the model."
   ]
  },
  {
   "cell_type": "markdown",
   "metadata": {},
   "source": [
    "    "
   ]
  },
  {
   "cell_type": "markdown",
   "metadata": {},
   "source": [
    "Only calculating the accuracy is not always the best way to evaluate a classification model. Another way is to also calculate the **AUROC**"
   ]
  },
  {
   "cell_type": "markdown",
   "metadata": {},
   "source": [
    "    "
   ]
  },
  {
   "cell_type": "markdown",
   "metadata": {},
   "source": [
    "# Receiver Operating Characteristic (ROC) curve & Area Under ROC (AUROC)"
   ]
  },
  {
   "cell_type": "code",
   "execution_count": 119,
   "metadata": {},
   "outputs": [],
   "source": [
    "from sklearn.metrics import roc_curve, roc_auc_score"
   ]
  },
  {
   "cell_type": "markdown",
   "metadata": {},
   "source": [
    "Predict_proba generates two columns and we need the second column for the probability values.\n",
    "\n",
    "\n",
    "predict_proba() produces output of shape (N, k) where N is the number of datapoints and k is the number of classes you're trying to classify. It seems you have two classes and hence you have 2 columns. Say your labels(classes) are [\"healthy\", \"diabetes\"], if a datapoint is predicted to have 80% chance of being diabetic and consequently 20% chance of being healthy, then your output row for that point will be [0.2, 0.8] to reflect these probabilities. In general you can go through the predicted array and get probabilities for the k-th class with model.predict_proba(X)[:,k-1]\n",
    "\n",
    "**This will change for multi-label classification**"
   ]
  },
  {
   "cell_type": "code",
   "execution_count": 98,
   "metadata": {},
   "outputs": [],
   "source": [
    "y_proba = modellr1.predict_proba(X_test)[:,1]\n",
    "y2_proba = modellr2.predict_proba(X_test)[:,1]\n",
    "y3_proba = modelrf.predict_proba(X_test)[:,1]\n",
    "y4_proba = modelgb.predict_proba(X_test)[:,1]"
   ]
  },
  {
   "cell_type": "code",
   "execution_count": 120,
   "metadata": {},
   "outputs": [
    {
     "data": {
      "image/png": "[encoded data removed]",
      "text/plain": [
       "<Figure size 432x288 with 1 Axes>"
      ]
     },
     "metadata": {},
     "output_type": "display_data"
    }
   ],
   "source": [
    "# Plot a ROC curve from y_test and pred\n",
    "fpr, tpr, thresholds = roc_curve(y_test, y_proba)\n",
    "fpr2, tpr2, thresholds = roc_curve(y_test, y2_proba)\n",
    "fpr3, tpr3, thresholds = roc_curve(y_test, y3_proba)\n",
    "fpr4, tpr4, thresholds = roc_curve(y_test, y4_proba)\n",
    "\n",
    "plt.plot(fpr, tpr, label= 'lr1')\n",
    "plt.plot(fpr2, tpr2, label = 'lr2')\n",
    "plt.plot(fpr3, tpr3, label = 'rf')\n",
    "plt.plot(fpr4, tpr4, label = 'gb')\n",
    "plt.plot([0,1],[0,1],'k--')\n",
    "plt.legend(loc='lower right')\n",
    "plt.show()\n"
   ]
  },
  {
   "cell_type": "markdown",
   "metadata": {},
   "source": [
    "    "
   ]
  },
  {
   "cell_type": "markdown",
   "metadata": {},
   "source": [
    "####  As we can see, the area under curve is maximum for the Random Forest classifer."
   ]
  },
  {
   "cell_type": "code",
   "execution_count": 107,
   "metadata": {},
   "outputs": [
    {
     "name": "stdout",
     "output_type": "stream",
     "text": [
      "Logistic Regression L1: 0.893\n",
      "Logistic Regression L2: 0.893\n",
      "Random Forest: 0.987\n",
      "Gradient Boosting: 0.98\n"
     ]
    }
   ],
   "source": [
    "print('Logistic Regression L1:',np.round(roc_auc_score(y_test, y_proba),3))\n",
    "print('Logistic Regression L2:',np.round(roc_auc_score(y_test, y2_proba),3))\n",
    "print('Random Forest:',np.round(roc_auc_score(y_test, y3_proba),3))\n",
    "print('Gradient Boosting:',np.round(roc_auc_score(y_test, y4_proba),3))"
   ]
  },
  {
   "cell_type": "markdown",
   "metadata": {},
   "source": [
    "    "
   ]
  },
  {
   "cell_type": "markdown",
   "metadata": {},
   "source": [
    "#### Also, the AUROC score is maximum for the Random Forest Classifer."
   ]
  },
  {
   "cell_type": "markdown",
   "metadata": {},
   "source": [
    "    "
   ]
  },
  {
   "cell_type": "markdown",
   "metadata": {},
   "source": [
    "# In this case Random Forest classifer is our clear WINNER!"
   ]
  },
  {
   "cell_type": "code",
   "execution_count": null,
   "metadata": {},
   "outputs": [],
   "source": []
  }
 ],
 "metadata": {
  "kernelspec": {
   "display_name": "Python 3",
   "language": "python",
   "name": "python3"
  },
  "language_info": {
   "codemirror_mode": {
    "name": "ipython",
    "version": 3
   },
   "file_extension": ".py",
   "mimetype": "text/x-python",
   "name": "python",
   "nbconvert_exporter": "python",
   "pygments_lexer": "ipython3",
   "version": "3.7.6"
  }
 },
 "nbformat": 4,
 "nbformat_minor": 4
}
